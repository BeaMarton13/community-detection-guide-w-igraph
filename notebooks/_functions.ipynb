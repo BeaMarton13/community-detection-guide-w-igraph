{
 "cells": [
  {
   "cell_type": "code",
   "execution_count": 2,
   "id": "25708e3c-c565-42c1-9809-e164ad51c251",
   "metadata": {},
   "outputs": [],
   "source": [
    "# Install matplotlib (usually comes with Anaconda/Jupyter, but good to ensure)\n",
    "!pip install matplotlib --quiet\n",
    "\n",
    "# Install numpy (usually comes with Anaconda/Jupyter, but good to ensure)\n",
    "!pip install numpy --quiet"
   ]
  },
  {
   "cell_type": "code",
   "execution_count": 1,
   "id": "31c5d776-eee9-4b87-923f-74dfa44785fd",
   "metadata": {},
   "outputs": [],
   "source": [
    "import matplotlib.pyplot as plt\n",
    "import matplotlib.colors as mcolors \n",
    "import numpy as np\n",
    "import os "
   ]
  },
  {
   "cell_type": "code",
   "execution_count": 8,
   "id": "111e125c-00a6-4f69-ad64-a29a05028ff9",
   "metadata": {},
   "outputs": [],
   "source": [
    "def load_graph_from_gml_file(graph_file, weight_attribute_name=\"weight\"):\n",
    "    # Check if the graph file exists\n",
    "    if not os.path.exists(graph_file):\n",
    "        print(f\"Error: Graph file '{graph_file}' not found.\")\n",
    "        print(f\"Please ensure '{graph_file}' is a valid path to your 'lesmis.gml' file.\")\n",
    "        print(\"You can typically find this file by searching for 'lesmis.gml network dataset'.\")\n",
    "        return # Exit the function if file is not found\n",
    "\n",
    "    try:\n",
    "        # Load network from GML file\n",
    "        # igraph.Graph.Read_GML will automatically load edge attributes like 'value'\n",
    "        # if they are present in the GML file.\n",
    "        graph = ig.Graph.Read_GML(graph_file)\n",
    "        \n",
    "        # Check if the graph has the correct weight attribute name\n",
    "        if weight_attribute_name not in graph.edge_attributes():\n",
    "            print(f\"Warning: Graph '{graph_file}' does not have a '{weight_attribute_name}' attribute. \"\n",
    "                  \"Community detection will proceed without explicit weights, or if the algorithm \"\n",
    "                  \"expects them, it might use default uniform weights.\")\n",
    "            # If no 'value' attribute, assign a default uniform weight for visualization purposes\n",
    "            graph.es[weight_attribute_name] = 1 \n",
    "\n",
    "        return graph\n",
    "\n",
    "\n",
    "    except Exception as e:\n",
    "        print(f\"An error occurred while loading or processing the graph: {e}\")\n",
    "        return\n",
    "\n",
    "def community_detection(graph, community_detection_method=\"multilevel\", weight_attribute_name=\"weight\"):\n",
    "    if community_detection_method == \"multilevel\":\n",
    "        return graph.community_multilevel(weights=weight_attribute_name if weight_attribute_name in graph.edge_attributes() else None)\n",
    "    elif community_detection_method == \"fastgreedy\":\n",
    "        return graph.community_fastgreedy(weights=weight_attribute_name if weight_attribute_name in graph.edge_attributes() else None).as_clustering()\n"
   ]
  },
  {
   "cell_type": "markdown",
   "id": "e15bf0ab-7b54-4f89-b6f6-e49ae9de6c54",
   "metadata": {},
   "source": [
    "# Functions useful to test community structure"
   ]
  },
  {
   "cell_type": "code",
   "execution_count": 4,
   "id": "1ab35a72-4bcd-4391-8f28-85b39c6a29ef",
   "metadata": {},
   "outputs": [],
   "source": [
    "\n",
    "def get_modularity_on_clustering(graph, community_detection_method=\"multilevel\"):\n",
    "    partition = community_detection(graph, community_detection_method, weight_attribute_name=None)\n",
    "    return partition.modularity\n",
    "\n",
    "def rewire(graph):\n",
    "    num_randomizations = 500  # Number of randomized networks to generate\n",
    "    modularity_random_networks = []\n",
    "    \n",
    "    num_swaps_for_randomization = graph.ecount()\n",
    "    \n",
    "    for i in range(num_randomizations):\n",
    "        # G.rewire() modifies the graph in-place, so we must work on a copy.\n",
    "        graph_random = graph.copy()\n",
    "    \n",
    "        graph_random.rewire(n=num_swaps_for_randomization)\n",
    "    \n",
    "        modularity_random_networks.append(get_modularity_on_clustering(graph_random))\n",
    "\n",
    "    return modularity_random_networks\n",
    "\n",
    "def plot_histogram(modularity_original, modularity_random_networks, graph_name=\"Karate Club Network\"):\n",
    "    plt.figure(figsize=(10, 6))\n",
    "    plt.hist(modularity_random_networks, bins=30, alpha=0.7, color='lightgreen',\n",
    "             edgecolor='black', label='Modularity of Randomized Networks')\n",
    "    \n",
    "    # Plot a vertical line for the original network's modularity\n",
    "    plt.axvline(modularity_original, color='red', linestyle='dashed', linewidth=2,\n",
    "                label=f'Original Network Modularity ({modularity_original:.4f})')\n",
    "    \n",
    "    plt.title(f'Modularity of Original vs. Randomized {graph_name} (igraph)')\n",
    "    plt.xlabel('Modularity Score')\n",
    "    plt.ylabel('Frequency')\n",
    "    plt.legend()\n",
    "    plt.grid(axis='y', alpha=0.75)\n",
    "    plt.tight_layout()\n",
    "    plt.show()\n",
    "\n",
    "\n",
    "def test_community_structure(graph, graph_name=\"Karate Club Network\", community_detection_method=\"multilevel\"):\n",
    "    modularity_orig = get_modularity_on_clustering(graph, community_detection_method)\n",
    "    modularity_random_networks = rewire(graph)\n",
    "    plot_histogram(modularity_orig, modularity_random_networks, graph_name)\n"
   ]
  },
  {
   "cell_type": "code",
   "execution_count": null,
   "id": "32c6168e-c9d8-4200-a7ef-fac6927408d6",
   "metadata": {},
   "outputs": [],
   "source": []
  }
 ],
 "metadata": {
  "kernelspec": {
   "display_name": "Python 3 (ipykernel)",
   "language": "python",
   "name": "python3"
  },
  "language_info": {
   "codemirror_mode": {
    "name": "ipython",
    "version": 3
   },
   "file_extension": ".py",
   "mimetype": "text/x-python",
   "name": "python",
   "nbconvert_exporter": "python",
   "pygments_lexer": "ipython3",
   "version": "3.10.12"
  }
 },
 "nbformat": 4,
 "nbformat_minor": 5
}
