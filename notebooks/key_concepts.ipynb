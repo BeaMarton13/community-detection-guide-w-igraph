{
 "cells": [
  {
   "cell_type": "markdown",
   "id": "ad2d9dec-a24b-42d7-881a-7b5c98691d70",
   "metadata": {},
   "source": [
    "# Community Detection Guide: Key Concepts\n",
    "\n",
    "This guide will introduce you to the essential theoretical terms you need to understand when exploring community detection in networks, especially when using tools like _python-igraph_. We'll keep the explanations clear and simple, assuming you don't have a background in network science.\n",
    "\n",
    "### 1. Networks (or Graphs)\n",
    "What is a network\n",
    "- __Node (or Vertex):__ What is a node\n",
    "- __Edge (or Link):__ What is a link\n",
    "\n",
    "### 2. Community\n",
    "What is a community\n",
    "\n",
    "### 3. Community Detection\n",
    "What is community detection\n",
    "\n",
    "### 4. Types of communities\n",
    "- __Disjoint Communities:__ What is it\n",
    "- __Overlapping Communities:__ What is it\n",
    "\n",
    "### 5. Measures of Community Quality\n",
    "After we've found potential communities, how do we determine if they're \"good\" communities? We apply certain metrics to assess their quality.\n",
    "- __Modularity:__ This is one of the most frequently used metrics of the quality of a network split into communities, especially for disjoint communities. Modularity encapsulates how much more densely connected more nodes in a community are to each other relative to what would occur at random.\n",
    "\n",
    "    High modularity score (typically close to 0 or 1) reveals dense community structure, where connections are strong within communities but weak between them. A score of 0 indicates very little community structure.\n",
    "\n",
    "  \n",
    "- __Mutual Information (MI) / Normalized Mutual Information (NMI):__ Modularity is not suitable for comparing a single partition, but Mutual Information (or Normalized Mutual Information, NMI) can compare two partitions of the same network. It is a measure of the information one clustering provides about another.\n",
    "\n",
    "  If one runs two different community detection algorithms on the same network, NMI will be able to tell how much they agree with each other. A value for NMI that is near 1 indicates greater similarity between the two partitions. \n",
    "\n",
    "\n",
    "- __Variation of information (VI):__ Another measure to compare two different partitions of an identical network, similar to NMI. However, in contrast to NMI, which calculates common information, VI calculates the \"distance\" or difference between two partitions. It is an information-theoretic measure, specifically the conditional entropy between the two clusterings.\n",
    "\n",
    "    Lower VI value (closer to 0) suggests greater similarity between the two partitions, i.e., less \"variation\" or dissimilarity in their information content. The reverse is suggested by greater VI value. It is also discovered to be superior to NMI in some contexts since it represents an actual measure that satisfies the distance properties.\n",
    "\n",
    "### 6. Node Properties\n",
    "- __Degree:__ what is it\n",
    "\n",
    "### 7. Community Detection Algorithms (Broad Approaches)\n",
    "- __Optimization-Based Methods:__ description (?) _community_louvain(), community_fastgreedy(), community_leading_eigenvector()_\n",
    "- __Hierarchical Clustering:__ description (?) _community_edge_betweenness() community_walktrap()_\n",
    "- __Spectral Clustering:__ description (?) _community_leading_eigenvector()_\n",
    "- __Random Walk-Based Methods:__ description (?) _community_walktrap(), community_infomap()_\n",
    "- __Label Propagation Methods:__ description (?) _community_label_propagation()_\n",
    "- __Statistical Mechanics Methods:__ description (?) _community_spinglass()_\n",
    "- __Flow-Based / Fluid Dynamics Methods:__ description (?) _community_fluid_communities()_\n",
    "- __Geometric / Spatial Methods:__ description (?) _community_voronoi()_"
   ]
  },
  {
   "cell_type": "markdown",
   "id": "0d800f74-a972-40fa-a315-2c2397841360",
   "metadata": {},
   "source": []
  },
  {
   "cell_type": "code",
   "execution_count": null,
   "id": "653b6841-5923-46e5-b5e9-dff6ab3102a4",
   "metadata": {},
   "outputs": [],
   "source": []
  }
 ],
 "metadata": {
  "kernelspec": {
   "display_name": "Python 3 (ipykernel)",
   "language": "python",
   "name": "python3"
  },
  "language_info": {
   "codemirror_mode": {
    "name": "ipython",
    "version": 3
   },
   "file_extension": ".py",
   "mimetype": "text/x-python",
   "name": "python",
   "nbconvert_exporter": "python",
   "pygments_lexer": "ipython3",
   "version": "3.10.12"
  }
 },
 "nbformat": 4,
 "nbformat_minor": 5
}
