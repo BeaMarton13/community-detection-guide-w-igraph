{
 "cells": [
  {
   "cell_type": "markdown",
   "id": "b094410b-9f41-4904-b3c7-7a769b4010e7",
   "metadata": {},
   "source": [
    "# __Community Detection Algorithms__\n",
    "## __Optimization based methods: Modularity Maximization__\n",
    "#### Modularity Formula\n",
    "\n",
    "This formula defines modularity ($Q$) as a measure of the strength of division of a network into modules (or communities). It is defined to quantify the strength of community structure, by comparing the density of internal community connections to the expected density in a random network with the same degree distribution.\n",
    "\n",
    "$$Q = \\frac{1}{2m} \\sum_{i,j} \\left[ A_{ij} - \\frac{k_i k_j}{2m} \\right] \\delta(c_i, c_j)$$\n",
    "\n",
    "Where:\n",
    "* $m$: Total number of edges in the graph (sum of all edge weights for a weighted graph).\n",
    "* $A_{ij}$: Element of the adjacency matrix, representing the weight of the edge between node $i$ and node $j$ (0 if no edge).\n",
    "* $k_i$: Degree of node $i$ (sum of weights of edges connected to node $i$).\n",
    "* $k_j$: Degree of node $j$.\n",
    "* $\\delta(c_i, c_j)$: Kronecker delta function, which is 1 if node $i$ and node $j$ belong to the same community ($c_i = c_j$), and 0 otherwise.\n",
    "\n",
    "In [Chapter 2](https://mybinder.org/v2/gh/BeaMarton13/community-detection-guide-w-igraph/HEAD?urlpath=%2Fdoc%2Ftree%2Fnotebooks%2Ftest_significance_of_community.ipynb) we already saw, that a high modularity score note necessarily means a better community partitioning, e.g. in the _Grid Graph_ mentioned there.\n",
    "\n",
    "### __community_multilevel (The Louvain Method)__\n",
    "\n",
    "#### When is community_multilevel applied?\n",
    "\n",
    "This algorithm is usually applied when:\n",
    "\n",
    "- _You need to identify communities at different levels of granularity:_ Many real-world networks exhibit a hierarchical organization, where smaller, tightly knit groups are nested within larger, broader communities (e.g., departments within a company, friends within a social circle, or pathways within a biological system). Multilevel algorithms can reveal these nested structures.\n",
    "\n",
    "- _Dealing with large-scale networks:_ It is computationally efficient and scalable, making it suitable for analyzing networks with millions of nodes and edges, where other community detection methods might become prohibitively slow.\n",
    "\n",
    "#### On What Kind of Graphs are They Applied?\n",
    "\n",
    "Community multilevel algorithms are primarily applied to  __unweighted__ or __undirected and weighted__ graphs. While they can be adapted for directed graphs, their core principle of optimizing connections within groups is most directly applicable to networks where relationships are reciprocal or symmetric.\n",
    "\n",
    "They are particularly effective for:\n",
    "\n",
    "- _Sparse graphs:_ Networks where nodes are not extensively connected to every other node.\n",
    "\n",
    "- _Graphs with varying community sizes:_ They can effectively identify communities of different scales, addressing the \"resolution limit\" problem that some other methods face.\n",
    "\n",
    "- _Real-world complex networks:_ These algorithms are robust enough to handle the complexities and irregularities often found in real-world data."
   ]
  },
  {
   "cell_type": "code",
   "execution_count": null,
   "id": "b71f8cec-faa5-4863-8f4f-8c82a8effd6b",
   "metadata": {},
   "outputs": [],
   "source": []
  },
  {
   "cell_type": "code",
   "execution_count": null,
   "id": "4d11aa0a-cbe9-4377-8387-2ea02443f3d8",
   "metadata": {},
   "outputs": [],
   "source": []
  }
 ],
 "metadata": {
  "kernelspec": {
   "display_name": "Python 3 (ipykernel)",
   "language": "python",
   "name": "python3"
  },
  "language_info": {
   "codemirror_mode": {
    "name": "ipython",
    "version": 3
   },
   "file_extension": ".py",
   "mimetype": "text/x-python",
   "name": "python",
   "nbconvert_exporter": "python",
   "pygments_lexer": "ipython3",
   "version": "3.10.12"
  }
 },
 "nbformat": 4,
 "nbformat_minor": 5
}
